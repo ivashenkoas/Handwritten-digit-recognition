{
  "cells": [
    {
      "cell_type": "code",
      "execution_count": null,
      "metadata": {
        "id": "qrfd6FzSLrE2"
      },
      "outputs": [],
      "source": [
        "from tensorflow.keras.datasets import mnist \n",
        "from tensorflow.keras.models import Sequential \n",
        "from tensorflow.keras.layers import Dense \n",
        "from tensorflow.keras import utils \n",
        "from tensorflow.keras.preprocessing import image \n",
        "from google.colab import files \n",
        "import numpy as np \n",
        "import matplotlib.pyplot as plt \n",
        "from PIL import Image \n",
        "\n",
        "%matplotlib inline "
      ]
    },
    {
      "cell_type": "markdown",
      "metadata": {
        "id": "xiurjCBVMDTG"
      },
      "source": [
        "## Подготовка данных для обучения сети"
      ]
    },
    {
      "cell_type": "markdown",
      "metadata": {
        "id": "1yDF75Cx8VPz"
      },
      "source": [
        "**Загружаем набор данных с рукописными цифрами**"
      ]
    },
    {
      "cell_type": "code",
      "execution_count": null,
      "metadata": {
        "colab": {
          "base_uri": "https://localhost:8080/"
        },
        "id": "E5L3LUIi8PDV",
        "outputId": "5727b110-d707-4d95-a7b7-ca744b15f0c9"
      },
      "outputs": [
        {
          "name": "stdout",
          "output_type": "stream",
          "text": [
            "Downloading data from https://storage.googleapis.com/tensorflow/tf-keras-datasets/mnist.npz\n",
            "11490434/11490434 [==============================] - 2s 0us/step\n"
          ]
        }
      ],
      "source": [
        "(x_train_org, y_train_org), (x_test_org, y_test_org) = mnist.load_data()"
      ]
    },
    {
      "cell_type": "code",
      "execution_count": null,
      "metadata": {
        "colab": {
          "base_uri": "https://localhost:8080/",
          "height": 265
        },
        "id": "ga0DtPJQVkEh",
        "outputId": "fc03ec87-e4b9-4cbc-a982-a41148277666"
      },
      "outputs": [
        {
          "data": {
            "image/png": "[encoded data removed]",
            "text/plain": [
              "<Figure size 432x288 with 1 Axes>"
            ]
          },
          "metadata": {},
          "output_type": "display_data"
        }
      ],
      "source": [
        "n = 109\n",
        "\n",
        "plt.imshow(Image.fromarray(x_train_org[n]).convert('RGBA'))\n",
        "plt.show()"
      ]
    },
    {
      "cell_type": "markdown",
      "metadata": {
        "id": "7uXTnIojJLbl"
      },
      "source": [
        "**Преобразование размерности данных в наборе**"
      ]
    },
    {
      "cell_type": "code",
      "execution_count": null,
      "metadata": {
        "id": "GBAqLKjGJJ-V"
      },
      "outputs": [],
      "source": [
        "x_train = x_train_org.reshape(60000, 784)\n",
        "x_test = x_test_org.reshape(10000, 784)"
      ]
    },
    {
      "cell_type": "markdown",
      "metadata": {
        "id": "hDaHO5LgJYxU"
      },
      "source": [
        "**Нормализация данных**"
      ]
    },
    {
      "cell_type": "code",
      "execution_count": null,
      "metadata": {
        "id": "rscaAuBNJdq9"
      },
      "outputs": [],
      "source": [
        "x_train = x_train.astype('float32')\n",
        "x_train = x_train / 255\n",
        "x_test = x_test.astype('float32')\n",
        "x_test = x_test / 255 "
      ]
    },
    {
      "cell_type": "markdown",
      "metadata": {
        "id": "KRcMlNzqJk1t"
      },
      "source": [
        "**Работа с правильными ответами**"
      ]
    },
    {
      "cell_type": "code",
      "execution_count": null,
      "metadata": {
        "colab": {
          "base_uri": "https://localhost:8080/"
        },
        "id": "A5lKe_syJqPu",
        "outputId": "8f0fb4bb-3dff-44c6-87d6-74fd19706a6a"
      },
      "outputs": [
        {
          "name": "stdout",
          "output_type": "stream",
          "text": [
            "2\n"
          ]
        }
      ],
      "source": [
        "print(y_train_org[n])"
      ]
    },
    {
      "cell_type": "markdown",
      "metadata": {
        "id": "zqJ9GA1kJxBF"
      },
      "source": [
        "**Преобразуем метки в формат one hot encoding**"
      ]
    },
    {
      "cell_type": "code",
      "execution_count": null,
      "metadata": {
        "id": "zQnasUyyJ3cG"
      },
      "outputs": [],
      "source": [
        "y_train = utils.to_categorical(y_train_org, 10)\n",
        "y_test = utils.to_categorical(y_test_org, 10)"
      ]
    },
    {
      "cell_type": "markdown",
      "metadata": {
        "id": "KfuqlyjHJ_ye"
      },
      "source": [
        "**Правильный ответ в формате one hot encoding**"
      ]
    },
    {
      "cell_type": "code",
      "execution_count": null,
      "metadata": {
        "colab": {
          "base_uri": "https://localhost:8080/"
        },
        "id": "9zUfd1aeKH3e",
        "outputId": "8cf475f1-cb85-4e59-c84e-12244dca2898"
      },
      "outputs": [
        {
          "name": "stdout",
          "output_type": "stream",
          "text": [
            "(60000, 10)\n"
          ]
        }
      ],
      "source": [
        "print(y_train.shape)"
      ]
    },
    {
      "cell_type": "code",
      "execution_count": null,
      "metadata": {
        "colab": {
          "base_uri": "https://localhost:8080/"
        },
        "id": "KWYwnS5giydM",
        "outputId": "1a6f917a-5309-493a-f4a6-34addd6789d8"
      },
      "outputs": [
        {
          "name": "stdout",
          "output_type": "stream",
          "text": [
            "[0. 0. 1. 0. 0. 0. 0. 0. 0. 0.]\n"
          ]
        }
      ],
      "source": [
        "print(y_train[n])"
      ]
    },
    {
      "cell_type": "markdown",
      "metadata": {
        "id": "BmTr_lXTKNbN"
      },
      "source": [
        "## Создаем нейронную сеть"
      ]
    },
    {
      "cell_type": "markdown",
      "metadata": {
        "id": "fV_igNZuMNXe"
      },
      "source": [
        "**Создаем последовательную модель**"
      ]
    },
    {
      "cell_type": "code",
      "execution_count": null,
      "metadata": {
        "id": "D-jPYYxIKQkt"
      },
      "outputs": [],
      "source": [
        "model = Sequential()"
      ]
    },
    {
      "cell_type": "markdown",
      "metadata": {
        "id": "Q3QzIVtBMQRG"
      },
      "source": [
        "**Добавляем уровни сети**\n"
      ]
    },
    {
      "cell_type": "code",
      "execution_count": null,
      "metadata": {
        "id": "kYVSvpNIMSnG"
      },
      "outputs": [],
      "source": [
        "model.add(Dense(128, input_dim=784, activation=\"relu\"))\n",
        "model.add(Dense(128, activation=\"relu\"))\n",
        "model.add(Dense(10, activation=\"softmax\"))"
      ]
    },
    {
      "cell_type": "markdown",
      "metadata": {
        "id": "G__m76T-KWhd"
      },
      "source": [
        "**Компилируем сеть**"
      ]
    },
    {
      "cell_type": "code",
      "execution_count": null,
      "metadata": {
        "colab": {
          "base_uri": "https://localhost:8080/"
        },
        "id": "PTcbSxchKZjd",
        "outputId": "adcfc2e9-7994-4ab6-b759-464fe8c61ebb"
      },
      "outputs": [
        {
          "name": "stdout",
          "output_type": "stream",
          "text": [
            "Model: \"sequential\"\n",
            "_________________________________________________________________\n",
            " Layer (type)                Output Shape              Param #   \n",
            "=================================================================\n",
            " dense (Dense)               (None, 128)               100480    \n",
            "                                                                 \n",
            " dense_1 (Dense)             (None, 128)               16512     \n",
            "                                                                 \n",
            " dense_2 (Dense)             (None, 10)                1290      \n",
            "                                                                 \n",
            "=================================================================\n",
            "Total params: 118,282\n",
            "Trainable params: 118,282\n",
            "Non-trainable params: 0\n",
            "_________________________________________________________________\n",
            "None\n"
          ]
        }
      ],
      "source": [
        "model.compile(loss=\"categorical_crossentropy\", optimizer=\"adam\", metrics=[\"accuracy\"])\n",
        "print(model.summary())"
      ]
    },
    {
      "cell_type": "markdown",
      "metadata": {
        "id": "lspCHiaCKl72"
      },
      "source": [
        "## Обучаем нейронную сеть"
      ]
    },
    {
      "cell_type": "code",
      "execution_count": null,
      "metadata": {
        "colab": {
          "background_save": true,
          "base_uri": "https://localhost:8080/"
        },
        "id": "H6EIXu1dKoju",
        "outputId": "14194381-e078-48a5-a61c-499a0a4e4e21"
      },
      "outputs": [
        {
          "name": "stdout",
          "output_type": "stream",
          "text": [
            "Epoch 1/15\n",
            "240/240 [==============================] - 6s 9ms/step - loss: 0.4178 - accuracy: 0.8825 - val_loss: 0.1853 - val_accuracy: 0.9482\n",
            "Epoch 2/15\n",
            "240/240 [==============================] - 2s 7ms/step - loss: 0.1660 - accuracy: 0.9509 - val_loss: 0.1381 - val_accuracy: 0.9616\n",
            "Epoch 3/15\n",
            "240/240 [==============================] - 2s 7ms/step - loss: 0.1187 - accuracy: 0.9646 - val_loss: 0.1166 - val_accuracy: 0.9665\n",
            "Epoch 4/15\n",
            "240/240 [==============================] - 2s 7ms/step - loss: 0.0907 - accuracy: 0.9739 - val_loss: 0.1097 - val_accuracy: 0.9672\n",
            "Epoch 5/15\n",
            "240/240 [==============================] - 1s 4ms/step - loss: 0.0708 - accuracy: 0.9786 - val_loss: 0.1005 - val_accuracy: 0.9708\n",
            "Epoch 6/15\n",
            "240/240 [==============================] - 2s 7ms/step - loss: 0.0580 - accuracy: 0.9825 - val_loss: 0.1004 - val_accuracy: 0.9703\n",
            "Epoch 7/15\n",
            "240/240 [==============================] - 2s 6ms/step - loss: 0.0466 - accuracy: 0.9862 - val_loss: 0.0913 - val_accuracy: 0.9733\n",
            "Epoch 8/15\n",
            "240/240 [==============================] - 2s 6ms/step - loss: 0.0380 - accuracy: 0.9886 - val_loss: 0.0947 - val_accuracy: 0.9721\n",
            "Epoch 9/15\n",
            "240/240 [==============================] - 2s 6ms/step - loss: 0.0312 - accuracy: 0.9913 - val_loss: 0.0962 - val_accuracy: 0.9732\n",
            "Epoch 10/15\n",
            "240/240 [==============================] - 1s 6ms/step - loss: 0.0274 - accuracy: 0.9918 - val_loss: 0.1007 - val_accuracy: 0.9728\n",
            "Epoch 11/15\n",
            "240/240 [==============================] - 2s 7ms/step - loss: 0.0209 - accuracy: 0.9939 - val_loss: 0.1027 - val_accuracy: 0.9727\n",
            "Epoch 12/15\n",
            "240/240 [==============================] - 1s 5ms/step - loss: 0.0185 - accuracy: 0.9949 - val_loss: 0.1044 - val_accuracy: 0.9731\n",
            "Epoch 13/15\n",
            "240/240 [==============================] - 1s 3ms/step - loss: 0.0155 - accuracy: 0.9959 - val_loss: 0.1047 - val_accuracy: 0.9732\n",
            "Epoch 14/15\n",
            "240/240 [==============================] - 1s 3ms/step - loss: 0.0118 - accuracy: 0.9967 - val_loss: 0.1030 - val_accuracy: 0.9751\n",
            "Epoch 15/15\n",
            "240/240 [==============================] - 1s 3ms/step - loss: 0.0108 - accuracy: 0.9974 - val_loss: 0.1129 - val_accuracy: 0.9729\n"
          ]
        },
        {
          "data": {
            "text/plain": [
              "<keras.callbacks.History at 0x7f685a57e730>"
            ]
          },
          "execution_count": 13,
          "metadata": {},
          "output_type": "execute_result"
        }
      ],
      "source": [
        "model.fit(x_train, y_train, batch_size=200, epochs=15,  verbose=1, validation_split=0.2)"
      ]
    },
    {
      "cell_type": "markdown",
      "metadata": {
        "id": "8OsyUFVULEkG"
      },
      "source": [
        "## Сохраняем обученную нейронную сеть"
      ]
    },
    {
      "cell_type": "markdown",
      "metadata": {
        "id": "3H4ivOt5H2rm"
      },
      "source": [
        "Записываем обученную нейронную сеть в файл `mnist_dense.h5`"
      ]
    },
    {
      "cell_type": "code",
      "execution_count": null,
      "metadata": {
        "colab": {
          "background_save": true
        },
        "id": "jCcYrRwfLYg-"
      },
      "outputs": [],
      "source": [
        "model.save(\"mnist_dense.h5\")"
      ]
    },
    {
      "cell_type": "markdown",
      "metadata": {
        "id": "ulInadIzIBj_"
      },
      "source": [
        "Проверяем, что файл сохранился"
      ]
    },
    {
      "cell_type": "code",
      "execution_count": null,
      "metadata": {
        "colab": {
          "background_save": true
        },
        "id": "DFOL85B1IEgO",
        "outputId": "35af6731-337c-476a-a199-82a331765952"
      },
      "outputs": [
        {
          "name": "stdout",
          "output_type": "stream",
          "text": [
            "mnist_dense.h5\tsample_data\n"
          ]
        }
      ],
      "source": [
        "!ls"
      ]
    },
    {
      "cell_type": "markdown",
      "metadata": {
        "id": "52MAtyzWGKAC"
      },
      "source": [
        "**Сохраняем файлы на локальный компьютер**"
      ]
    },
    {
      "cell_type": "code",
      "execution_count": null,
      "metadata": {
        "colab": {
          "background_save": true
        },
        "id": "0etc3S-PGOuy",
        "outputId": "1dca1f07-ba44-4b16-84f6-c0e7ce0d83a0"
      },
      "outputs": [
        {
          "data": {
            "application/javascript": [
              "\n",
              "    async function download(id, filename, size) {\n",
              "      if (!google.colab.kernel.accessAllowed) {\n",
              "        return;\n",
              "      }\n",
              "      const div = document.createElement('div');\n",
              "      const label = document.createElement('label');\n",
              "      label.textContent = `Downloading \"${filename}\": `;\n",
              "      div.appendChild(label);\n",
              "      const progress = document.createElement('progress');\n",
              "      progress.max = size;\n",
              "      div.appendChild(progress);\n",
              "      document.body.appendChild(div);\n",
              "\n",
              "      const buffers = [];\n",
              "      let downloaded = 0;\n",
              "\n",
              "      const channel = await google.colab.kernel.comms.open(id);\n",
              "      // Send a message to notify the kernel that we're ready.\n",
              "      channel.send({})\n",
              "\n",
              "      for await (const message of channel.messages) {\n",
              "        // Send a message to notify the kernel that we're ready.\n",
              "        channel.send({})\n",
              "        if (message.buffers) {\n",
              "          for (const buffer of message.buffers) {\n",
              "            buffers.push(buffer);\n",
              "            downloaded += buffer.byteLength;\n",
              "            progress.value = downloaded;\n",
              "          }\n",
              "        }\n",
              "      }\n",
              "      const blob = new Blob(buffers, {type: 'application/binary'});\n",
              "      const a = document.createElement('a');\n",
              "      a.href = window.URL.createObjectURL(blob);\n",
              "      a.download = filename;\n",
              "      div.appendChild(a);\n",
              "      a.click();\n",
              "      div.remove();\n",
              "    }\n",
              "  "
            ],
            "text/plain": [
              "<IPython.core.display.Javascript object>"
            ]
          },
          "metadata": {},
          "output_type": "display_data"
        },
        {
          "data": {
            "application/javascript": [
              "download(\"download_ec4240e9-fd4c-42b8-9510-88184efb00c7\", \"mnist_dense.h5\", 1453288)"
            ],
            "text/plain": [
              "<IPython.core.display.Javascript object>"
            ]
          },
          "metadata": {},
          "output_type": "display_data"
        }
      ],
      "source": [
        "files.download(\"mnist_dense.h5\")"
      ]
    },
    {
      "cell_type": "markdown",
      "metadata": {
        "id": "7vMx5V5QMYlW"
      },
      "source": [
        "## Используем сеть для распознавания рукописных цифр"
      ]
    },
    {
      "cell_type": "code",
      "execution_count": null,
      "metadata": {
        "colab": {
          "background_save": true
        },
        "id": "-AGygAcPMd0G"
      },
      "outputs": [],
      "source": [
        "n_rec = 2010"
      ]
    },
    {
      "cell_type": "code",
      "execution_count": null,
      "metadata": {
        "colab": {
          "background_save": true
        },
        "id": "TT4Ofqx1WTCq",
        "outputId": "66700523-7ddf-47f3-8961-bf95119207b4"
      },
      "outputs": [
        {
          "data": {
            "image/png": "[encoded data removed]",
            "text/plain": [
              "<Figure size 432x288 with 1 Axes>"
            ]
          },
          "metadata": {},
          "output_type": "display_data"
        }
      ],
      "source": [
        "plt.imshow(Image.fromarray(x_test_org[n_rec]).convert('RGBA'))\n",
        "plt.show()"
      ]
    },
    {
      "cell_type": "markdown",
      "metadata": {
        "id": "Lnft8V55M0Rc"
      },
      "source": [
        "**Меняем размерность изображения и нормализуем его**"
      ]
    },
    {
      "cell_type": "code",
      "execution_count": null,
      "metadata": {
        "colab": {
          "background_save": true
        },
        "id": "UKFWqSHtM7Nf"
      },
      "outputs": [],
      "source": [
        "x = x_test[n_rec]\n",
        "\n",
        "x = np.expand_dims(x, axis=0)"
      ]
    },
    {
      "cell_type": "markdown",
      "metadata": {
        "id": "bMruIcf2NHlN"
      },
      "source": [
        "**Запускаем распознавание**"
      ]
    },
    {
      "cell_type": "code",
      "execution_count": null,
      "metadata": {
        "colab": {
          "background_save": true
        },
        "id": "Ap72-9_kNKU2",
        "outputId": "807bfe6f-0811-42d3-f82d-9e8d4cf040cc"
      },
      "outputs": [
        {
          "name": "stdout",
          "output_type": "stream",
          "text": [
            "1/1 [==============================] - 0s 74ms/step\n"
          ]
        }
      ],
      "source": [
        "prediction = model.predict(x)"
      ]
    },
    {
      "cell_type": "markdown",
      "metadata": {
        "id": "2Gldpmn2NQ6-"
      },
      "source": [
        "**Печатаем результаты распознавания**"
      ]
    },
    {
      "cell_type": "code",
      "execution_count": null,
      "metadata": {
        "colab": {
          "background_save": true
        },
        "id": "P7opRiSZNUku",
        "outputId": "f93c3c0d-2e02-42ab-b0e6-e352329b8660"
      },
      "outputs": [
        {
          "name": "stdout",
          "output_type": "stream",
          "text": [
            "[[9.7085673e-09 9.9897742e-01 4.1577282e-06 6.5665804e-06 4.0620085e-05\n",
            "  2.5424917e-04 2.2163456e-07 3.3640167e-06 6.8370323e-04 2.9794999e-05]]\n"
          ]
        }
      ],
      "source": [
        "print(prediction)"
      ]
    },
    {
      "cell_type": "markdown",
      "metadata": {
        "id": "LQTiyEM3NfRG"
      },
      "source": [
        "**Преобразуем результаты из формата one hot encoding**"
      ]
    },
    {
      "cell_type": "code",
      "execution_count": null,
      "metadata": {
        "colab": {
          "background_save": true
        },
        "id": "XVC_dTGqNohG",
        "outputId": "43e05069-96c1-451d-f39a-fafdf1a43f83"
      },
      "outputs": [
        {
          "name": "stdout",
          "output_type": "stream",
          "text": [
            "1\n"
          ]
        }
      ],
      "source": [
        "prediction = np.argmax(prediction)\n",
        "print(prediction)"
      ]
    },
    {
      "cell_type": "markdown",
      "metadata": {
        "id": "zJy8tKjuNyD2"
      },
      "source": [
        "**Печатаем правильный ответ**"
      ]
    },
    {
      "cell_type": "code",
      "execution_count": null,
      "metadata": {
        "colab": {
          "background_save": true
        },
        "id": "0zoGlCZWN2Id",
        "outputId": "619e7cc3-06c3-4a63-dec9-1fb9cf99ad34"
      },
      "outputs": [
        {
          "name": "stdout",
          "output_type": "stream",
          "text": [
            "1\n"
          ]
        }
      ],
      "source": [
        "print(y_test_org[n_rec])"
      ]
    },
    {
      "cell_type": "markdown",
      "metadata": {
        "id": "uFyI8beELi39"
      },
      "source": [
        "## Загружаем свою картинку"
      ]
    },
    {
      "cell_type": "code",
      "execution_count": null,
      "metadata": {
        "id": "Pbsw3N30LnT2"
      },
      "outputs": [],
      "source": [
        "files.upload()"
      ]
    },
    {
      "cell_type": "markdown",
      "metadata": {
        "id": "2rXNsnTnMLJO"
      },
      "source": [
        "Проверяем загрузку картинки"
      ]
    },
    {
      "cell_type": "code",
      "execution_count": null,
      "metadata": {
        "id": "v3y6wbi-MNqs"
      },
      "outputs": [],
      "source": [
        "!ls"
      ]
    },
    {
      "cell_type": "markdown",
      "metadata": {
        "id": "F8HQI_X5MUms"
      },
      "source": [
        "Загружаем картинку из файла"
      ]
    },
    {
      "cell_type": "code",
      "execution_count": null,
      "metadata": {
        "id": "Zfi4L4iYMTLE"
      },
      "outputs": [],
      "source": [
        "img_path = 'Снимок экрана 2022-11-18 в 23.57.00.png'\n",
        "\n",
        "img = image.load_img(img_path, target_size=(28, 28), color_mode = \"grayscale\")"
      ]
    },
    {
      "cell_type": "markdown",
      "metadata": {
        "id": "c2yCw9y1QSL1"
      },
      "source": [
        "Показываем картинку"
      ]
    },
    {
      "cell_type": "code",
      "execution_count": null,
      "metadata": {
        "id": "BNW4bWUYP8Rt"
      },
      "outputs": [],
      "source": [
        "plt.imshow(img.convert('RGBA'))\n",
        "plt.show()"
      ]
    },
    {
      "cell_type": "markdown",
      "metadata": {
        "id": "2fHqp8KbOsJd"
      },
      "source": [
        "Преобразуем картинку для обработки нейронной сетью"
      ]
    },
    {
      "cell_type": "code",
      "execution_count": null,
      "metadata": {
        "id": "0xsuR1vDNihN"
      },
      "outputs": [],
      "source": [
        "x = image.img_to_array(img)\n",
        "\n",
        "x = x.reshape(1, 784)\n",
        "\n",
        "x = 255 - x\n",
        "\n",
        "x /= 255"
      ]
    },
    {
      "cell_type": "markdown",
      "metadata": {
        "id": "OYpe-m2bNR-8"
      },
      "source": [
        "Запускаем распознавание"
      ]
    },
    {
      "cell_type": "code",
      "execution_count": null,
      "metadata": {
        "id": "jTUbtYAPNI60"
      },
      "outputs": [],
      "source": [
        "prediction = model.predict(x)"
      ]
    },
    {
      "cell_type": "markdown",
      "metadata": {
        "id": "gdDM5wzcRRql"
      },
      "source": [
        "Результаты распознавания"
      ]
    },
    {
      "cell_type": "code",
      "execution_count": null,
      "metadata": {
        "id": "4qbu45hIMQvk"
      },
      "outputs": [],
      "source": [
        "prediction"
      ]
    },
    {
      "cell_type": "code",
      "execution_count": null,
      "metadata": {
        "id": "iOwGOz41PNsV"
      },
      "outputs": [],
      "source": [
        "print(np.argmax(prediction))"
      ]
    }
  ],
  "metadata": {
    "accelerator": "GPU",
    "colab": {
      "provenance": []
    },
    "kernelspec": {
      "display_name": "Python 3",
      "name": "python3"
    }
  },
  "nbformat": 4,
  "nbformat_minor": 0
}